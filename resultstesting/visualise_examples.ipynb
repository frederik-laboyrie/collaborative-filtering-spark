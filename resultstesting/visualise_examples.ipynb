{
 "cells": [
  {
   "cell_type": "code",
   "execution_count": 7,
   "metadata": {
    "collapsed": false
   },
   "outputs": [],
   "source": [
    "import pickle\n",
    "import numpy as np\n",
    "\n",
    "DATA_PATH = '/home/frederik/gitdisst/hand-orientation-inference/modelling/'"
   ]
  },
  {
   "cell_type": "code",
   "execution_count": 8,
   "metadata": {
    "collapsed": false
   },
   "outputs": [],
   "source": [
    "with open('good_vanilla_indices.pickle', 'rb') as handle:\n",
    "    vanilla_good = pickle.load(handle)\n",
    "    \n",
    "with open('bad_vanilla_indices.pickle', 'rb') as handle:\n",
    "    vanilla_bad = pickle.load(handle)"
   ]
  },
  {
   "cell_type": "code",
   "execution_count": 9,
   "metadata": {
    "collapsed": false
   },
   "outputs": [],
   "source": [
    "full_res = np.load(DATA_PATH + 'AllBW.npy')\n",
    "med_res = np.load(DATA_PATH + 'AllImagesBW64.npy')\n",
    "low_res = np.load(DATA_PATH + 'AllImagesBW32.npy')"
   ]
  },
  {
   "cell_type": "code",
   "execution_count": 11,
   "metadata": {
    "collapsed": false
   },
   "outputs": [],
   "source": [
    "test_index = int(len(full_res) * 0.8)\n",
    "full = full_res[test_index:]\n",
    "med = med_res[test_index:]\n",
    "low = low_res[test_index:]"
   ]
  },
  {
   "cell_type": "code",
   "execution_count": null,
   "metadata": {
    "collapsed": true
   },
   "outputs": [],
   "source": []
  }
 ],
 "metadata": {
  "anaconda-cloud": {},
  "kernelspec": {
   "display_name": "Python [conda env:py35]",
   "language": "python",
   "name": "conda-env-py35-py"
  },
  "language_info": {
   "codemirror_mode": {
    "name": "ipython",
    "version": 3
   },
   "file_extension": ".py",
   "mimetype": "text/x-python",
   "name": "python",
   "nbconvert_exporter": "python",
   "pygments_lexer": "ipython3",
   "version": "3.5.3"
  }
 },
 "nbformat": 4,
 "nbformat_minor": 1
}
